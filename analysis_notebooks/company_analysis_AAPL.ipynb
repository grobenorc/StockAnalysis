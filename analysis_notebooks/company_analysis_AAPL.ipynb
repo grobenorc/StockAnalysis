{
 "cells": [
  {
   "cell_type": "markdown",
   "id": "64fa7a61",
   "metadata": {},
   "source": [
    "# Company Analysis: AAPL"
   ]
  },
  {
   "cell_type": "markdown",
   "id": "23315e5e",
   "metadata": {},
   "source": [
    "This notebook contains an analysis of the company's financials."
   ]
  },
  {
   "cell_type": "markdown",
   "id": "c5cf13af",
   "metadata": {},
   "source": [
    "## Stock Price and Rolling P/E Ratio"
   ]
  },
  {
   "cell_type": "code",
   "execution_count": null,
   "id": "0e113a67",
   "metadata": {},
   "outputs": [],
   "source": [
    "\n",
    "company.plot_rolling_PE()\n",
    "        "
   ]
  }
 ],
 "metadata": {},
 "nbformat": 4,
 "nbformat_minor": 5
}
