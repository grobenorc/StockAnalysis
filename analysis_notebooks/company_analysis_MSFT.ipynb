{
 "cells": [
  {
   "cell_type": "markdown",
   "id": "4787d63c",
   "metadata": {},
   "source": [
    "# Company Analysis: MSFT"
   ]
  },
  {
   "cell_type": "code",
   "execution_count": null,
   "id": "7da533be",
   "metadata": {},
   "outputs": [],
   "source": [
    "\n",
    "# Modify the system path to include the 'analysis' directory\n",
    "import sys\n",
    "sys.path.append(r\"C:\\Users\\claes\\OneDrive\\Python\\StockAnalysis\\analysis\")\n",
    "\n",
    "# Define the Company object for MSFT\n",
    "from company import Company\n",
    "company = Company(\"MSFT\")\n",
    "        "
   ]
  },
  {
   "cell_type": "markdown",
   "id": "641c4f57",
   "metadata": {},
   "source": [
    "## Stock Price and Rolling P/E Ratio"
   ]
  },
  {
   "cell_type": "code",
   "execution_count": null,
   "id": "f9b71b15",
   "metadata": {},
   "outputs": [],
   "source": [
    "\n",
    "# Plot the rolling P/E ratio and stock price for MSFT\n",
    "company.plot_rolling_PE()\n",
    "        "
   ]
  },
  {
   "cell_type": "markdown",
   "id": "4ea291de",
   "metadata": {},
   "source": [
    "## 1. Profitability"
   ]
  },
  {
   "cell_type": "code",
   "execution_count": null,
   "id": "503b8a16",
   "metadata": {},
   "outputs": [],
   "source": [
    "\n",
    "# Display key profitability metrics for MSFT\n",
    "financials = company.get_financials()\n",
    "financials.loc[['Gross Profit', 'Operating Income', 'Net Income']]\n",
    "        "
   ]
  },
  {
   "cell_type": "markdown",
   "id": "7eb5fb01",
   "metadata": {},
   "source": [
    "## 2. Financial Position"
   ]
  },
  {
   "cell_type": "code",
   "execution_count": null,
   "id": "566f5159",
   "metadata": {},
   "outputs": [],
   "source": [
    "\n",
    "# Display the balance sheet for MSFT\n",
    "balance_sheet = company.get_balance_sheet()\n",
    "balance_sheet\n",
    "        "
   ]
  },
  {
   "cell_type": "markdown",
   "id": "188edb91",
   "metadata": {},
   "source": [
    "## 3. Cash Flow Analysis"
   ]
  },
  {
   "cell_type": "code",
   "execution_count": null,
   "id": "dbb9bddc",
   "metadata": {},
   "outputs": [],
   "source": [
    "\n",
    "# Display the cash flow statement for MSFT\n",
    "cashflow = company.get_cashflow()\n",
    "cashflow\n",
    "        "
   ]
  },
  {
   "cell_type": "markdown",
   "id": "fb40cad4",
   "metadata": {},
   "source": [
    "## 4. Market Sentiment"
   ]
  },
  {
   "cell_type": "code",
   "execution_count": null,
   "id": "aa75b495",
   "metadata": {},
   "outputs": [],
   "source": [
    "\n",
    "# Display the latest market sentiment (analyst recommendations) for MSFT\n",
    "recommendations = company.get_recommendations()\n",
    "recommendations.tail(10)\n",
    "        "
   ]
  }
 ],
 "metadata": {},
 "nbformat": 4,
 "nbformat_minor": 5
}
