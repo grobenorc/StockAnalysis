{
 "cells": [
  {
   "cell_type": "markdown",
   "id": "2af24e5c",
   "metadata": {},
   "source": [
    "# Company Analysis: MSFT"
   ]
  },
  {
   "cell_type": "code",
   "execution_count": null,
   "id": "ce95bb74",
   "metadata": {},
   "outputs": [],
   "source": [
    "\n",
    "# Modify the system path to include the 'analysis' directory\n",
    "import sys\n",
    "sys.path.append(r\"C:\\Users\\claes\\OneDrive\\Python\\StockAnalysis\\analysis\")\n",
    "\n",
    "# Define the Company object for MSFT\n",
    "from company import Company\n",
    "company = Company(\"MSFT\")\n",
    "        "
   ]
  },
  {
   "cell_type": "markdown",
   "id": "cf1b66fa",
   "metadata": {},
   "source": [
    "## Stock Price and Rolling P/E Ratio"
   ]
  },
  {
   "cell_type": "code",
   "execution_count": null,
   "id": "5f89f443",
   "metadata": {},
   "outputs": [],
   "source": [
    "\n",
    "# Plot the rolling P/E ratio and stock price for MSFT\n",
    "company.plot_rolling_PE()\n",
    "        "
   ]
  },
  {
   "cell_type": "markdown",
   "id": "c263d0f3",
   "metadata": {},
   "source": [
    "## 1. Profitability"
   ]
  },
  {
   "cell_type": "code",
   "execution_count": null,
   "id": "776685a2",
   "metadata": {},
   "outputs": [],
   "source": [
    "\n",
    "# Display key profitability metrics for MSFT\n",
    "financials = company.get_financials()\n",
    "financials.loc[['Gross Profit', 'Operating Income', 'Net Income']]\n",
    "        "
   ]
  },
  {
   "cell_type": "markdown",
   "id": "3214f28f",
   "metadata": {},
   "source": [
    "### Revenue and Gross Profit"
   ]
  },
  {
   "cell_type": "code",
   "execution_count": null,
   "id": "a8190b53",
   "metadata": {},
   "outputs": [],
   "source": [
    "\n",
    "                # Display Revenue and gross profit Plot\n",
    "                company.plot_revenue_grossprofit()\n",
    "            "
   ]
  },
  {
   "cell_type": "markdown",
   "id": "eb17b802",
   "metadata": {},
   "source": [
    "## 2. Financial Position"
   ]
  },
  {
   "cell_type": "code",
   "execution_count": null,
   "id": "bef6178b",
   "metadata": {},
   "outputs": [],
   "source": [
    "\n",
    "# Display the balance sheet for MSFT\n",
    "balance_sheet = company.get_balance_sheet()\n",
    "balance_sheet\n",
    "        "
   ]
  },
  {
   "cell_type": "markdown",
   "id": "8a4da4b9",
   "metadata": {},
   "source": [
    "## 3. Cash Flow Analysis"
   ]
  },
  {
   "cell_type": "code",
   "execution_count": null,
   "id": "056fd8d2",
   "metadata": {},
   "outputs": [],
   "source": [
    "\n",
    "# Display the cash flow statement for MSFT\n",
    "cashflow = company.get_cashflow()\n",
    "cashflow\n",
    "        "
   ]
  },
  {
   "cell_type": "markdown",
   "id": "60dc9f20",
   "metadata": {},
   "source": [
    "## 4. Market Sentiment"
   ]
  },
  {
   "cell_type": "code",
   "execution_count": null,
   "id": "0166eea6",
   "metadata": {},
   "outputs": [],
   "source": [
    "\n",
    "# Display the latest market sentiment (analyst recommendations) for MSFT\n",
    "recommendations = company.get_recommendations()\n",
    "recommendations.tail(10)\n",
    "        "
   ]
  }
 ],
 "metadata": {},
 "nbformat": 4,
 "nbformat_minor": 5
}
